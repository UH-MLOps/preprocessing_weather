{
 "cells": [
  {
   "cell_type": "code",
   "execution_count": 1,
   "id": "4f99434b",
   "metadata": {},
   "outputs": [],
   "source": [
    "import requests\n",
    "import os\n",
    "\n",
    "from datetime import datetime, timedelta\n",
    "import shutil"
   ]
  },
  {
   "cell_type": "code",
   "execution_count": 9,
   "id": "81868354",
   "metadata": {},
   "outputs": [],
   "source": [
    "gfs_domain = 'https://nomads.ncep.noaa.gov/pub/data/nccf/com/gfs/v16.3/'\n",
    "day = '20230914'\n",
    "ftimes = ['00'] #['00', '06', '12', '18']\n",
    "\n",
    "storage_path = './data'"
   ]
  },
  {
   "cell_type": "code",
   "execution_count": 3,
   "id": "f6548c9f",
   "metadata": {},
   "outputs": [],
   "source": [
    "def get_url(domain, date, ftime):\n",
    "    return f'{domain}gfs.{date}/{ftime}/wave/gridded/'"
   ]
  },
  {
   "cell_type": "code",
   "execution_count": 4,
   "id": "da7803d0",
   "metadata": {},
   "outputs": [],
   "source": [
    "def fetch_file(file):\n",
    "    storage_path, url = file\n",
    "    r = requests.get(url, stream=True)\n",
    "    with open(storage_path, 'wb') as f:\n",
    "        for ch in r:\n",
    "            f.write(ch)\n",
    "    return True"
   ]
  },
  {
   "cell_type": "code",
   "execution_count": 5,
   "id": "9f109177",
   "metadata": {},
   "outputs": [],
   "source": [
    "def get_filenames(ftime):\n",
    "    filenames = []\n",
    "\n",
    "    for i in range(385):\n",
    "        if i > 120 and i % 3 != 0:\n",
    "            continue\n",
    "\n",
    "        file_num = '{:03d}'.format(i)\n",
    "        filename = f'gfswave.t{ftime}z.global.0p25.f{file_num}.grib2'\n",
    "\n",
    "        filenames.append(filename)\n",
    "        filenames.append(filename + '.idx')\n",
    "    \n",
    "    return filenames"
   ]
  },
  {
   "cell_type": "code",
   "execution_count": 6,
   "id": "c8ddfbb7",
   "metadata": {},
   "outputs": [],
   "source": [
    "for time in ftimes:\n",
    "    os.makedirs(f'{storage_path}/{day}/{time}', exist_ok=True)"
   ]
  },
  {
   "cell_type": "code",
   "execution_count": 10,
   "id": "d0007ec4",
   "metadata": {},
   "outputs": [
    {
     "name": "stdout",
     "output_type": "stream",
     "text": [
      "downloading...\n",
      "Downloaded 418 files\n"
     ]
    }
   ],
   "source": [
    "all_files = []\n",
    "\n",
    "for ftime in ftimes:\n",
    "    url = get_url(gfs_domain, day, ftime)\n",
    "    filenames = get_filenames(ftime)\n",
    "    files = [(f'{storage_path}/{day}/{ftime}/{filename}', url + filename) for filename in filenames]\n",
    "    all_files += files\n",
    "\n",
    "print('downloading...')\n",
    "file_count = 0\n",
    "\n",
    "for file in all_files:\n",
    "    file_count += int(fetch_file(file))\n",
    "\n",
    "print(f'Downloaded {file_count} files')"
   ]
  },
  {
   "cell_type": "code",
   "execution_count": 8,
   "id": "329ef9e1",
   "metadata": {},
   "outputs": [
    {
     "name": "stdout",
     "output_type": "stream",
     "text": [
      "deleting folders for days older than 7 days..\n"
     ]
    }
   ],
   "source": [
    "def housekeeping(backlog_days):\n",
    "    print(f'deleting folders for days older than {backlog_days} days..')\n",
    "    last_date = (datetime.today() - timedelta(backlog_days)).strftime('%Y%m%d')\n",
    "    try:\n",
    "        folders = sorted(os.listdir(storage_path))\n",
    "    except FileNotFoundError:\n",
    "        print('folder is empty')\n",
    "        return\n",
    "\n",
    "    if last_date not in folders:\n",
    "        folders = sorted(folders + [last_date])\n",
    "    index = folders.index(last_date)\n",
    "\n",
    "    for folder in folders[:index]:\n",
    "        print(folder)\n",
    "        shutil.rmtree(f'{storage_path}/{folder}')\n",
    "\n",
    "\n",
    "housekeeping(7)"
   ]
  }
 ],
 "metadata": {
  "kernelspec": {
   "display_name": "Python 3 (ipykernel)",
   "language": "python",
   "name": "python3"
  },
  "language_info": {
   "codemirror_mode": {
    "name": "ipython",
    "version": 3
   },
   "file_extension": ".py",
   "mimetype": "text/x-python",
   "name": "python",
   "nbconvert_exporter": "python",
   "pygments_lexer": "ipython3",
   "version": "3.10.12"
  }
 },
 "nbformat": 4,
 "nbformat_minor": 5
}
