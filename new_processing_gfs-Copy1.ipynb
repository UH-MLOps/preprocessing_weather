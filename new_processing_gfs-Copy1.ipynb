{
 "cells": [
  {
   "cell_type": "code",
   "execution_count": 16,
   "id": "3b31d82f",
   "metadata": {},
   "outputs": [],
   "source": [
    "import numpy as np\n",
    "import pygrib\n",
    "from multiprocessing.pool import ThreadPool"
   ]
  },
  {
   "cell_type": "markdown",
   "id": "a8eeae4f",
   "metadata": {},
   "source": [
    "## combine everything"
   ]
  },
  {
   "cell_type": "code",
   "execution_count": 17,
   "id": "5d364a6e",
   "metadata": {},
   "outputs": [],
   "source": [
    "storage_path = './data'\n",
    "\n",
    "dates = ['20230914']\n",
    "ftimes = ['00'] #['00','06' ,'12', '18']\n",
    "lat_range = [25.1, 50]  # define the coordinates of the area\n",
    "lon_range = [131, 231]"
   ]
  },
  {
   "cell_type": "code",
   "execution_count": 18,
   "id": "b7ae1296",
   "metadata": {},
   "outputs": [],
   "source": [
    "def get_filenames(path, ftime):\n",
    "    filenames = []\n",
    "\n",
    "    for i in range(385):\n",
    "        # After 120h the forcasts are every 3 hours.\n",
    "        if i > 120 and i % 3 != 0:\n",
    "            continue\n",
    "\n",
    "        file_num = '{:03d}'.format(i)\n",
    "        filename = f'{path}/gfswave.t{ftime}z.global.0p25.f{file_num}.grib2'\n",
    "\n",
    "        filenames.append(filename)\n",
    "    \n",
    "    return filenames"
   ]
  },
  {
   "cell_type": "code",
   "execution_count": 20,
   "id": "e76ce864",
   "metadata": {},
   "outputs": [],
   "source": [
    "def filter_dataset(dataset, mask, dim):\n",
    "    \"\"\"\n",
    "    For every GRIB message in the provided dataset:\n",
    "        - masks the array to only the values in the lat/lon range\n",
    "        - reshape np array to desired dimensions \n",
    "    \"\"\"\n",
    "    return [np.reshape(data.values[mask], dim).data for data in dataset]"
   ]
  },
  {
   "cell_type": "code",
   "execution_count": 26,
   "id": "1f3be2b6",
   "metadata": {},
   "outputs": [],
   "source": [
    "def get_mask_dim(filename):\n",
    "    \"\"\"\n",
    "    Calculates the required mask and dimensions for the weather data when read from the GRIB messages.\n",
    "    Since all files and messages have the same shape and coordinates the mask and dimensions can be reused.\n",
    "    \"\"\"\n",
    "    file = pygrib.open(filename)\n",
    "    lats, lons = file[1].latlons()\n",
    "    masklat = (lats >= lat_range[0]) & (lats <= lat_range[1])\n",
    "    masklon = (lons >= lon_range[0]) & (lons <= lon_range[1])\n",
    "    mask = masklat & masklon\n",
    "    nlats = masklat[:,0].sum()\n",
    "    nlons = masklon[0,:].sum()\n",
    "    file.close()\n",
    "    return mask, (nlats, nlons)"
   ]
  },
  {
   "cell_type": "code",
   "execution_count": null,
   "id": "91a66ce4",
   "metadata": {},
   "outputs": [],
   "source": [
    "\"\"\"\n",
    "Iterates through all GRIB files for the provided ftime and collects the needed data from the messages.\n",
    "The data is then stacked into one numpy array\n",
    "\"\"\"\n",
    "for ftime in ftimes:\n",
    "    \n",
    "    for date in dates:\n",
    "        lwindspeed = []\n",
    "        lwinddirection = []\n",
    "        lshww = []\n",
    "        lshsw = []\n",
    "        lpww = []\n",
    "        lpsw = []\n",
    "        ldww = []\n",
    "        ldsw = []\n",
    "\n",
    "        path = f'{storage_path}/{date}/{ftime}'\n",
    "        filenames = get_filenames(path, ftime)\n",
    "\n",
    "        # Get mask and dimensions for reshaping the raw data read from the GRIB files\n",
    "        mask, dim = get_mask_dim(filenames[0])\n",
    "        # Needed messages from the GRIB files\n",
    "        fields = [1, 2, 8, 9, 12, 13, 16, 17]\n",
    "\n",
    "        for filename in filenames:\n",
    "            file = pygrib.open(filename)\n",
    "            data = filter_dataset([file[x] for x in fields], mask, dim)\n",
    "\n",
    "            file.close()\n",
    "    \n",
    "            lwindspeed.append(data[0])\n",
    "            lwinddirection.append(data[1])\n",
    "            lshww.append(data[2])\n",
    "            lshsw.append(data[3])\n",
    "            lpww.append(data[4])\n",
    "            lpsw.append(data[5])\n",
    "            ldww.append(data[6])\n",
    "            ldsw.append(data[7])\n",
    "            print('finished', filename)\n",
    "\n",
    "        windspeed = np.stack(lwindspeed,axis = 2)\n",
    "        winddirection = np.stack(lwinddirection,axis = 2)\n",
    "        shww = np.stack(lshww,axis = 2)\n",
    "        shsw = np.stack(lshsw, axis = 2)\n",
    "        pww = np.stack(lpww, axis = 2)\n",
    "        psw = np.stack(lpsw, axis = 2)\n",
    "        dww = np.stack(ldww, axis = 2)\n",
    "        dsw = np.stack(ldsw, axis = 2)\n",
    "        all_weather = np.stack((windspeed, winddirection, shww,pww,dww,shsw,psw,dsw), axis = 3)\n",
    "        np.save(f'25gfs{date}_{ftime}', all_weather.data)\n",
    "        \n",
    "print('Finished normally')    "
   ]
  },
  {
   "cell_type": "code",
   "execution_count": 9,
   "id": "39872a3f",
   "metadata": {},
   "outputs": [],
   "source": [
    "def nan_interpolate(arr_3d):\n",
    "    '''This function is used to interpolate the NaN values'''\n",
    "    result=np.zeros_like(arr_3d)\n",
    "    for i in range(arr_3d.shape[0]):\n",
    "        for j in range(arr_3d.shape[1]):\n",
    "            arr=arr_3d[i,j,:]\n",
    "            # If all elements are nan then cannot conduct linear interpolation.\n",
    "            if np.sum(np.isnan(arr))==arr.shape[0]:\n",
    "                result[i,j,:]=0\n",
    "            else:\n",
    "                # If the first elemet is nan, then assign the value of its right nearest neighbor to it.\n",
    "                if np.isnan(arr[0]):\n",
    "                    arr[0]=arr[~np.isnan(arr)][0]\n",
    "                # If the last element is nan, then assign the value of its left nearest neighbor to it.\n",
    "                if np.isnan(arr[-1]):\n",
    "                    arr[-1]=arr[~np.isnan(arr)][-1]\n",
    "                # If the element is in the middle and its value is nan, do linear interpolation using neighbor values.\n",
    "                for k in range(arr.shape[0]):\n",
    "                    if np.isnan(arr[k]):\n",
    "                        x=k\n",
    "                        x1=x-1\n",
    "                        x2=x+1\n",
    "                        # Find left neighbor whose value is not nan.\n",
    "                        while x1>=0:\n",
    "                            if np.isnan(arr[x1]):\n",
    "                                x1=x1-1\n",
    "                            else:\n",
    "                                y1=arr[x1]\n",
    "                                break\n",
    "                        # Find right neighbor whose value is not nan.\n",
    "                        while x2<arr.shape[0]:\n",
    "                            if np.isnan(arr[x2]):\n",
    "                                x2=x2+1\n",
    "                            else:\n",
    "                                y2=arr[x2]\n",
    "                                break\n",
    "                        # Calculate the slope and intercept determined by the left and right neighbors.\n",
    "                        t1 = timeframe2hour(x1)\n",
    "                        diff=(y2-y1)/(timeframe2hour(x2)-t1)                        \n",
    "                        y=y1+diff*(np.abs(t1-timeframe2hour(x)))\n",
    "                        arr[x]=y\n",
    "                result[i,j,:]=arr\n",
    "    return result"
   ]
  },
  {
   "cell_type": "code",
   "execution_count": 8,
   "id": "e172c26d",
   "metadata": {},
   "outputs": [],
   "source": [
    "def timeframe2hour(tf):\n",
    "    '''The number for the hours is from 0 to 209, but the real time frame is from 0 to 384. \n",
    "    From hour 120 onwards, every three hours, there is one frame of data. \n",
    "    So that the time frame has to be converted to real hour for interpolation of the weather attributes.'''\n",
    "    if tf > 120:\n",
    "        tf = (tf-120)*3 + 120\n",
    "    return tf"
   ]
  },
  {
   "cell_type": "code",
   "execution_count": 11,
   "id": "13bfe14a",
   "metadata": {},
   "outputs": [
    {
     "name": "stdout",
     "output_type": "stream",
     "text": [
      "(100, 60, 209, 8)\n"
     ]
    }
   ],
   "source": [
    "s = 5  # to decrease the spatial precision on the longitude dimension\n",
    "date = dates[0]\n",
    "for ftime in ftimes:\n",
    "    all_weather = np.load(f'25gfs{date}_{ftime}.npy')[:, 100::s, :, :]   # about index 100, select 300 points from the original 400 to avoid the land area near Japan\n",
    "    print(all_weather.shape)\n",
    "    all_weather[all_weather==9999]=np.nan   # to replace the invalid 9999 into np.NaN\n",
    "    tws = []\n",
    "    for w in range(all_weather.shape[3]):\n",
    "        tw = nan_interpolate(all_weather[:,:,:,w])\n",
    "        tws.append(tw)\n",
    "    all_weather = np.stack((tws), axis = 3)\n",
    "    np.save(f'gfs_NS_{date}{ftime}', all_weather)"
   ]
  },
  {
   "cell_type": "code",
   "execution_count": 5,
   "id": "270d415e",
   "metadata": {},
   "outputs": [
    {
     "data": {
      "text/plain": [
       "(100, 60, 209, 8)"
      ]
     },
     "execution_count": 5,
     "metadata": {},
     "output_type": "execute_result"
    }
   ],
   "source": [
    "w0206 = np.load(f'nonan_2023091400.npy')\n",
    "w0206.shape"
   ]
  },
  {
   "cell_type": "code",
   "execution_count": 6,
   "id": "8982d535",
   "metadata": {},
   "outputs": [
    {
     "data": {
      "text/plain": [
       "array([  8.31, 238.55,   0.86,   5.36, 203.75,   0.72,   9.44, 146.28])"
      ]
     },
     "execution_count": 6,
     "metadata": {},
     "output_type": "execute_result"
    }
   ],
   "source": [
    "w0206[0,0,0,:]"
   ]
  },
  {
   "cell_type": "code",
   "execution_count": null,
   "id": "fd927992",
   "metadata": {},
   "outputs": [],
   "source": [
    "w0206"
   ]
  },
  {
   "cell_type": "code",
   "execution_count": null,
   "id": "1047c2db",
   "metadata": {},
   "outputs": [],
   "source": [
    "# the forecast at points (50N, 156E) at Hour 0 in the 20230206's '00' forecast\n",
    "# wind speed, wind dir, wh, wp, wave direction, swell height, swell period, swell direction"
   ]
  }
 ],
 "metadata": {
  "kernelspec": {
   "display_name": "Python 3 (ipykernel)",
   "language": "python",
   "name": "python3"
  },
  "language_info": {
   "codemirror_mode": {
    "name": "ipython",
    "version": 3
   },
   "file_extension": ".py",
   "mimetype": "text/x-python",
   "name": "python",
   "nbconvert_exporter": "python",
   "pygments_lexer": "ipython3",
   "version": "3.10.12"
  }
 },
 "nbformat": 4,
 "nbformat_minor": 5
}
