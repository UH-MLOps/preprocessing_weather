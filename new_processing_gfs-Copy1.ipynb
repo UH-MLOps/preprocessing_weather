{
 "cells": [
  {
   "cell_type": "code",
   "execution_count": 11,
   "id": "3b31d82f",
   "metadata": {},
   "outputs": [],
   "source": [
    "import numpy as np\n",
    "import pygrib"
   ]
  },
  {
   "cell_type": "markdown",
   "id": "a8eeae4f",
   "metadata": {},
   "source": [
    "## combine everything"
   ]
  },
  {
   "cell_type": "code",
   "execution_count": 12,
   "id": "5d364a6e",
   "metadata": {},
   "outputs": [],
   "source": [
    "gfs_path = '/Users/'\n",
    "\n",
    "dates = ['20230206']\n",
    "f_time = ['00','06' ,'12', '18']\n",
    "lat_range = [25.1, 50]\n",
    "lon_range = [131, 231]\n",
    "\n"
   ]
  },
  {
   "cell_type": "code",
   "execution_count": 13,
   "id": "91a66ce4",
   "metadata": {},
   "outputs": [
    {
     "name": "stdout",
     "output_type": "stream",
     "text": [
      "Finished normally\n"
     ]
    }
   ],
   "source": [
    "for f_t in f_time:\n",
    "    \n",
    "    for date in dates:\n",
    "        h = 0\n",
    "        lwindspeed = []\n",
    "        lwinddirection = []\n",
    "        lshww = []\n",
    "        lshsw = []\n",
    "        lpww = []\n",
    "        lpsw = []\n",
    "        ldww = []\n",
    "        ldsw = []\n",
    "        lwu = []\n",
    "        lwv = []\n",
    "        while h <= 384:\n",
    "            hn = '00'+str(h) if h <= 9 else '0' + str(h) if h<100  else str(h)\n",
    "\n",
    "            wave = pygrib.open(gfs_path+date+'/'+f_t+'/'+'gfswave.t'+f_t+'z.global.0p25.f'+hn+'.grib2')\n",
    "            wave.seek(0)\n",
    "            Twindspeed, _, _ = wave[1].data(lat1=lat_range[0],lat2=lat_range[1],lon1=lon_range[0],lon2=lon_range[1])\n",
    "            Twinddirection, _, _ = wave[2].data(lat1=lat_range[0],lat2=lat_range[1],lon1=lon_range[0],lon2=lon_range[1])\n",
    "            Tshww, _, _ = wave[8].data(lat1=lat_range[0],lat2=lat_range[1],lon1=lon_range[0],lon2=lon_range[1])\n",
    "            Tshsw, _, _ = wave[9].data(lat1=lat_range[0],lat2=lat_range[1],lon1=lon_range[0],lon2=lon_range[1])\n",
    "            Tpww, _, _ = wave[12].data(lat1=lat_range[0],lat2=lat_range[1],lon1=lon_range[0],lon2=lon_range[1])\n",
    "            Tpsw, _, _ = wave[13].data(lat1=lat_range[0],lat2=lat_range[1],lon1=lon_range[0],lon2=lon_range[1])\n",
    "            Tdww, _, _ = wave[16].data(lat1=lat_range[0],lat2=lat_range[1],lon1=lon_range[0],lon2=lon_range[1])\n",
    "            Tdsw, _, _ = wave[17].data(lat1=lat_range[0],lat2=lat_range[1],lon1=lon_range[0],lon2=lon_range[1])\n",
    "            #Twind_u, _, _ = wave[3].data(lat1=lat_range[0],lat2=lat_range[1],lon1=lon_range[0],lon2=lon_range[1])\n",
    "            #Twind_v, _, _ = wave[4].data(lat1=lat_range[0],lat2=lat_range[1],lon1=lon_range[0],lon2=lon_range[1])\n",
    "    \n",
    "            lwindspeed.append(Twindspeed.data)\n",
    "            lwinddirection.append(Twinddirection.data)\n",
    "            lshww.append(Tshww.data)\n",
    "            lshsw.append(Tshsw.data)\n",
    "            lpww.append(Tpww.data)\n",
    "            lpsw.append(Tpsw.data)\n",
    "            ldww.append(Tdww.data)\n",
    "            ldsw.append(Tdsw.data)\n",
    "            #lwu.append(Twind_u.data)\n",
    "            #lwv.append(Twind_v.data) \n",
    "    \n",
    "            h = h+1 if h<120 else h+3\n",
    "        windspeed = np.stack(lwindspeed,axis = 2)\n",
    "        winddirection = np.stack(lwinddirection,axis = 2)\n",
    "        shww = np.stack(lshww,axis = 2)\n",
    "        shsw = np.stack(lshsw, axis = 2)\n",
    "        pww = np.stack(lpww, axis = 2)\n",
    "        psw = np.stack(lpsw, axis = 2)\n",
    "        dww = np.stack(ldww, axis = 2)\n",
    "        dsw = np.stack(ldsw, axis = 2)\n",
    "        #wind_u = np.stack(lwu,axis = 2)\n",
    "        #wind_v = np.stack(lwv,axis = 2)\n",
    "        all_weather = np.stack((windspeed, winddirection, shww,pww,dww,shsw,psw,dsw), axis = 3)\n",
    "        np.save('25gfs'+date+'_'+f_t, all_weather.data)\n",
    "        #np.save('25gfs_wind_u'+date+'_'+f_t, wind_u.data)\n",
    "        #np.save('25gfs_wind_v'+date+'_'+f_t, wind_v.data)\n",
    "        \n",
    "print('Finished normally')    "
   ]
  },
  {
   "cell_type": "code",
   "execution_count": 14,
   "id": "39872a3f",
   "metadata": {},
   "outputs": [],
   "source": [
    "def nan_interpolate(arr_3d):\n",
    "    '''This function is used to interpolate the NaN values'''\n",
    "    result=np.zeros_like(arr_3d)\n",
    "    for i in range(arr_3d.shape[0]):\n",
    "        for j in range(arr_3d.shape[1]):\n",
    "            arr=arr_3d[i,j,:]\n",
    "            # If all elements are nan then cannot conduct linear interpolation.\n",
    "            if np.sum(np.isnan(arr))==arr.shape[0]:\n",
    "                result[i,j,:]=0\n",
    "            else:\n",
    "                # If the first elemet is nan, then assign the value of its right nearest neighbor to it.\n",
    "                if np.isnan(arr[0]):\n",
    "                    arr[0]=arr[~np.isnan(arr)][0]\n",
    "                # If the last element is nan, then assign the value of its left nearest neighbor to it.\n",
    "                if np.isnan(arr[-1]):\n",
    "                    arr[-1]=arr[~np.isnan(arr)][-1]\n",
    "                # If the element is in the middle and its value is nan, do linear interpolation using neighbor values.\n",
    "                for k in range(arr.shape[0]):\n",
    "                    if np.isnan(arr[k]):\n",
    "                        x=k\n",
    "                        x1=x-1\n",
    "                        x2=x+1\n",
    "                        # Find left neighbor whose value is not nan.\n",
    "                        while x1>=0:\n",
    "                            if np.isnan(arr[x1]):\n",
    "                                x1=x1-1\n",
    "                            else:\n",
    "                                y1=arr[x1]\n",
    "                                break\n",
    "                        # Find right neighbor whose value is not nan.\n",
    "                        while x2<arr.shape[0]:\n",
    "                            if np.isnan(arr[x2]):\n",
    "                                x2=x2+1\n",
    "                            else:\n",
    "                                y2=arr[x2]\n",
    "                                break\n",
    "                        # Calculate the slope and intercept determined by the left and right neighbors.\n",
    "                        t1 = timeframe2hour(x1)\n",
    "                        diff=(y2-y1)/(timeframe2hour(x2)-t1)                        \n",
    "                        y=y1+diff*(np.abs(t1-timeframe2hour(x)))\n",
    "                        arr[x]=y\n",
    "                result[i,j,:]=arr\n",
    "    return result"
   ]
  },
  {
   "cell_type": "code",
   "execution_count": 15,
   "id": "e172c26d",
   "metadata": {},
   "outputs": [],
   "source": [
    "def timeframe2hour(tf):\n",
    "    '''The number for the hours is from 0 to 209, but the real time frame is from 0 to 384. \n",
    "    From hour 120 onwards, every three hours, there is one frame of data. \n",
    "    So that the time frame has to be converted to real hour for interpolation of the weather attributes.'''\n",
    "    if tf > 120:\n",
    "        tf = (tf-120)*3 + 120\n",
    "    return tf"
   ]
  },
  {
   "cell_type": "code",
   "execution_count": 16,
   "id": "13bfe14a",
   "metadata": {},
   "outputs": [],
   "source": [
    "s = 5\n",
    "date = '20230206'\n",
    "for tf in f_time:\n",
    "    all_weather = np.load('25gfs'+date+'_'+tf+'.npy')[:, 100:, :, :]\n",
    "    all_weather = all_weather[:,::s,:,:]\n",
    "    all_weather[all_weather==9999]=np.nan   # to replace the invalid 9999 into np.NaN\n",
    "    tws = []\n",
    "    for w in range(all_weather.shape[3]):\n",
    "        tw = nan_interpolate(all_weather[:,:,:,w])\n",
    "        tws.append(tw)\n",
    "    all_weather = np.stack((tws), axis = 3)\n",
    "    np.save('nonan_'+date+tf, all_weather)"
   ]
  },
  {
   "cell_type": "code",
   "execution_count": null,
   "id": "270d415e",
   "metadata": {},
   "outputs": [],
   "source": []
  }
 ],
 "metadata": {
  "kernelspec": {
   "display_name": "Python 3 (ipykernel)",
   "language": "python",
   "name": "python3"
  },
  "language_info": {
   "codemirror_mode": {
    "name": "ipython",
    "version": 3
   },
   "file_extension": ".py",
   "mimetype": "text/x-python",
   "name": "python",
   "nbconvert_exporter": "python",
   "pygments_lexer": "ipython3",
   "version": "3.10.4"
  }
 },
 "nbformat": 4,
 "nbformat_minor": 5
}
